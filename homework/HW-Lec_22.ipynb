{
 "cells": [
  {
   "cell_type": "code",
   "execution_count": 1,
   "id": "bac5f1a5",
   "metadata": {},
   "outputs": [],
   "source": [
    "import numpy as np\n",
    "from sklearn.neighbors import KNeighborsClassifier\n",
    "import csv\n",
    "from sklearn.model_selection import train_test_split\n",
    "import pandas as pd"
   ]
  },
  {
   "cell_type": "code",
   "execution_count": 56,
   "id": "5c0f8c8e",
   "metadata": {},
   "outputs": [
    {
     "name": "stdout",
     "output_type": "stream",
     "text": [
      "1599\n",
      "[[ 7.4    0.7    0.    ...  3.51   0.56   9.4  ]\n",
      " [ 7.8    0.88   0.    ...  3.2    0.68   9.8  ]\n",
      " [ 7.8    0.76   0.04  ...  3.26   0.65   9.8  ]\n",
      " ...\n",
      " [ 6.3    0.51   0.13  ...  3.42   0.75  11.   ]\n",
      " [ 5.9    0.645  0.12  ...  3.57   0.71  10.2  ]\n",
      " [ 6.     0.31   0.47  ...  3.39   0.66  11.   ]]\n",
      "1599 1599\n"
     ]
    }
   ],
   "source": [
    "data = []\n",
    "with open(\"winequality-red.csv\", \"r\") as file:\n",
    "    reader = csv.reader(file)\n",
    "    for line in reader:\n",
    "        data.append(line[0].split(\";\"))\n",
    "        \n",
    "        \n",
    "labels=data[0]\n",
    "\n",
    "d = data[1:]\n",
    "\n",
    "outcome = []\n",
    "inp = []\n",
    "\n",
    "k = 0\n",
    "\n",
    "for i in d:\n",
    "    k+=1\n",
    "    outcome.append(int(i[-1]))\n",
    "    inp.append([])\n",
    "    for j in i: \n",
    "        if i.index(j) == 11:\n",
    "            break\n",
    "        else:\n",
    "            inp[-1].append(float(j))\n",
    "            \n",
    "\n",
    "print(len(inp))\n",
    "outcome = np.array(outcome)\n",
    "\n",
    "for i in inp:\n",
    "    if len(i) == 12:\n",
    "        inp[inp.index(i)] = i[0:-1]\n",
    "        \n",
    "for i in range(0, len(inp)):\n",
    "    inp[i] = np.array(inp[i])\n",
    "        \n",
    "inpu = np.array(inp)\n",
    "print(inpu)\n",
    "print(len(inpu), len(outcome))"
   ]
  },
  {
   "cell_type": "code",
   "execution_count": 58,
   "id": "1863085b",
   "metadata": {},
   "outputs": [
    {
     "name": "stdout",
     "output_type": "stream",
     "text": [
      "1199 1199\n"
     ]
    }
   ],
   "source": [
    "X_train, X_test, y_train, y_test = train_test_split(inpu, outcome)\n",
    "print(len(X_train), len(y_train))"
   ]
  },
  {
   "cell_type": "code",
   "execution_count": 59,
   "id": "37802385",
   "metadata": {},
   "outputs": [
    {
     "data": {
      "text/plain": [
       "KNeighborsClassifier()"
      ]
     },
     "execution_count": 59,
     "metadata": {},
     "output_type": "execute_result"
    }
   ],
   "source": [
    "estimator = KNeighborsClassifier()\n",
    "estimator.fit(X_train, y_train)"
   ]
  },
  {
   "cell_type": "code",
   "execution_count": 60,
   "id": "183df1f5",
   "metadata": {},
   "outputs": [
    {
     "name": "stdout",
     "output_type": "stream",
     "text": [
      "The accuracy is 50.7%\n"
     ]
    }
   ],
   "source": [
    "y_predicted = estimator.predict(X_test)\n",
    "\n",
    "#test the accuracy\n",
    "accuracy = np.mean(y_test == y_predicted) *100\n",
    "print(\"The accuracy is {0:.1f}%\".format(accuracy))"
   ]
  },
  {
   "cell_type": "code",
   "execution_count": null,
   "id": "cf1dd538",
   "metadata": {},
   "outputs": [],
   "source": []
  }
 ],
 "metadata": {
  "kernelspec": {
   "display_name": "Python 3 (ipykernel)",
   "language": "python",
   "name": "python3"
  },
  "language_info": {
   "codemirror_mode": {
    "name": "ipython",
    "version": 3
   },
   "file_extension": ".py",
   "mimetype": "text/x-python",
   "name": "python",
   "nbconvert_exporter": "python",
   "pygments_lexer": "ipython3",
   "version": "3.9.9"
  }
 },
 "nbformat": 4,
 "nbformat_minor": 5
}
