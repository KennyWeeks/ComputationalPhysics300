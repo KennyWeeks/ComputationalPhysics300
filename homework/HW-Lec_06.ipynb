{
 "cells": [
  {
   "cell_type": "code",
   "execution_count": 2,
   "id": "fd252946",
   "metadata": {},
   "outputs": [
    {
     "data": {
      "image/png": "[encoded data removed]",
      "text/plain": [
       "<Figure size 432x288 with 1 Axes>"
      ]
     },
     "metadata": {
      "needs_background": "light"
     },
     "output_type": "display_data"
    }
   ],
   "source": [
    "#!/bin/bash\n",
    "import math\n",
    "import numpy as np\n",
    "from scipy import integrate as sp\n",
    "import matplotlib.pyplot as plt\n",
    "\n",
    "def trapezoidArea(func, start, end, deviations):\n",
    "\tsteps = (end-start) / deviations #Each step will serve as the height for each trapezoid\n",
    "\ta = start #This is the top level of the trapezoid\n",
    "\tb = start + steps #This is the base level of the trapezoid\n",
    "\ttrapSum = 0\n",
    "\twhile b < end:\n",
    "\t\tbt = func(a) #Top line\n",
    "\t\tbb = func(b) #Base line\n",
    "\t\ttrapSum += ((bt + bb) / 2) * steps\n",
    "\t\t#This is the incremental step in the while loop\n",
    "\t\ta += steps\n",
    "\t\tb += steps\n",
    "\n",
    "\treturn trapSum\n",
    "\n",
    "def userFunc(rng, dv=100):\n",
    "\t#dv is the deviations used for the steps\n",
    "\t#Constants used for each calculation\n",
    "\tk = 1.38065*(10**-23) #m^2*kg*s^-2*K^-1\n",
    "\tv = 1*(10**-3) # m^3\n",
    "\tp = 6.022*(10^28) #kg/m^3\n",
    "\tDb = 428 #K\n",
    "\n",
    "\tuserAnswers = [] #My answers using the trapezoid function\n",
    "\tscipyAnswers = [] #scipy function for finding the integral\n",
    "\n",
    "\tf = lambda x: ((x**4)*math.exp(x))/((math.exp(x) - 1)**2) #This is the lambda function for the integral part of the function\n",
    "\n",
    "\tfor t in rng:\n",
    "\t\tCV = 9 * v * p * k * ((t**3)/(Db**3)) #This is the first couple factors\n",
    "\t\tend = Db / t #Ending range of integral\n",
    "\t\tstep = (end - 0) / dv #Steps taken in the integral\n",
    "\t\ttrapAns = trapezoidArea(f, step, end, dv)\n",
    "\t\tscipyAns = sp.quad(f, 0, end)\n",
    "\n",
    "\t\t#----------\n",
    "\t\tuserAnswers.append(CV * trapAns) #Save the answer from the trapezoid\n",
    "\t\tscipyAnswers.append(CV * scipyAns[0]) #Save the answer from the scipy stuff\n",
    "\t\n",
    "\t#Return the content\n",
    "\treturn userAnswers, scipyAnswers\n",
    "\t\"\"\"CV = 9 * v * p * k * ((t**3)/(Db**3))\n",
    "\n",
    "\tf = lambda x: ((x**4)*math.exp(x))/((math.exp(x) - 1)**2)\n",
    "\tend = Db / t\n",
    "\tstep = (end - 0) / dv\n",
    "\tintAns = trapezoidArea(f, step, end, dv)\n",
    "\tprint(intAns)\n",
    "\tCV *= intAns\n",
    "\treturn CV\"\"\"\n",
    "\n",
    "if __name__ == \"__main__\":\n",
    "\tnumbs = np.arange(5, 501, 1)\n",
    "\tuserRes, scipyRes = userFunc(numbs)\n",
    "\tplt.plot(numbs, userRes, \"r\")\n",
    "\tplt.plot(numbs, scipyRes, \"b\")\n",
    "\tplt.axis([0, 500, 0, 6*(10**-24)])\n",
    "\tplt.show()\n",
    "\n",
    "\t#This was testing material\n",
    "\t\"\"\"answer = userFunc(5, 200)\n",
    "\tprint(answer)\n",
    "\tend = 428 / 5\n",
    "\tf = lambda x: ((x**4)*math.exp(x))/((math.exp(x) - 1)**2)\n",
    "\ttest = sp.quad(f, 0, end)\n",
    "\tprint(test)\n",
    "\tk = 1.38065*(10**-23) #m^2*kg*s^-2*K^-1\n",
    "\tv = 1*(10**-3) # m^3\n",
    "\tp = 6.022*(10^28) #kg/m^3\n",
    "\tDb = 428 #K\n",
    "\tmoreT = 9 * v * p * k * ((5**3)/(Db**3))\n",
    "\tprint(test[0])\n",
    "\tprint(moreT * test[0])\"\"\"\n",
    "\t#formula\n",
    "\t#9*v*p*k*((T/Db)**3)int((x**4*e*x)/(e**x-1)**2)[from 0 to Db/T]\n",
    "\t#T is from 5 to 500\n",
    "\n"
   ]
  },
  {
   "cell_type": "code",
   "execution_count": null,
   "id": "a3672b0d",
   "metadata": {},
   "outputs": [],
   "source": []
  }
 ],
 "metadata": {
  "kernelspec": {
   "display_name": "Python 3 (ipykernel)",
   "language": "python",
   "name": "python3"
  },
  "language_info": {
   "codemirror_mode": {
    "name": "ipython",
    "version": 3
   },
   "file_extension": ".py",
   "mimetype": "text/x-python",
   "name": "python",
   "nbconvert_exporter": "python",
   "pygments_lexer": "ipython3",
   "version": "3.8.5"
  }
 },
 "nbformat": 4,
 "nbformat_minor": 5
}
