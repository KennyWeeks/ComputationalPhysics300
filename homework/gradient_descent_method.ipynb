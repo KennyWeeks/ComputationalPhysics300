{
 "cells": [
  {
   "cell_type": "code",
   "execution_count": 4,
   "id": "bb6c9085",
   "metadata": {},
   "outputs": [],
   "source": [
    "import numpy as np\n",
    "import random\n",
    "import matplotlib.pyplot as plt"
   ]
  },
  {
   "cell_type": "code",
   "execution_count": 5,
   "id": "0a3a8864",
   "metadata": {},
   "outputs": [],
   "source": [
    "#Define the derivate function\n",
    "def derivative(f, x0, y0, d=0.01):\n",
    "    x, y = x0, y0\n",
    "    fx = (f(x+d/2, y)-f(x-d/2, y))/d\n",
    "    fy = (f(x, y+d/2)-f(x, y-d/x))/d\n",
    "    return fx, fy\n",
    "\n",
    "#Gradient Descent fixed size\n",
    "def gradientDescentFixed(f, xy, N=1000):\n",
    "    \n",
    "    x_now = xy[0]\n",
    "    y_now = xy[1]\n",
    "    conv = False\n",
    "    x_hist = []\n",
    "    x_hist.append([x_now, y_now])\n",
    "    dx = 0.05\n",
    "    \n",
    "    for _ in range(N):\n",
    "        print(\"Iteration\")\n",
    "        df_x, df_y = derivative(f, x_now, y_now)\n",
    "        x_next = x_now - df_x*dx\n",
    "        y_next = y_now - df_y*dx\n",
    "        \n",
    "        if f(x_next, y_next) > f(x_now, y_now):\n",
    "            converged = True\n",
    "            break\n",
    "        else:\n",
    "            x_now, y_now = x_next, y_next\n",
    "            x_hist.append([x_now, y_now])\n",
    "            \n",
    "    return converged, np.array(x_hist), f(x_now, y_now)"
   ]
  },
  {
   "cell_type": "code",
   "execution_count": 6,
   "id": "9587eba4",
   "metadata": {},
   "outputs": [
    {
     "name": "stdout",
     "output_type": "stream",
     "text": [
      "Iteration\n"
     ]
    }
   ],
   "source": [
    "f = lambda x, y: (1 - x)**2 + (100*((y - x**2)**2))\n",
    "#This is the test bed\n",
    "xy = np.array([4*random.random() - 2, 4*random.random()-2])\n",
    "\n",
    "c, h, m = gradientDescentFixed(f, xy)"
   ]
  },
  {
   "cell_type": "code",
   "execution_count": 7,
   "id": "b2046223",
   "metadata": {},
   "outputs": [
    {
     "name": "stdout",
     "output_type": "stream",
     "text": [
      "627.095988397835\n",
      "1\n"
     ]
    }
   ],
   "source": [
    "print(m)\n",
    "print(len(h))"
   ]
  },
  {
   "cell_type": "code",
   "execution_count": null,
   "id": "c6d3daa0",
   "metadata": {},
   "outputs": [],
   "source": []
  }
 ],
 "metadata": {
  "kernelspec": {
   "display_name": "Python 3 (ipykernel)",
   "language": "python",
   "name": "python3"
  },
  "language_info": {
   "codemirror_mode": {
    "name": "ipython",
    "version": 3
   },
   "file_extension": ".py",
   "mimetype": "text/x-python",
   "name": "python",
   "nbconvert_exporter": "python",
   "pygments_lexer": "ipython3",
   "version": "3.9.9"
  }
 },
 "nbformat": 4,
 "nbformat_minor": 5
}
