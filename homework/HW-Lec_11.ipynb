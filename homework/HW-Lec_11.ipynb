{
 "cells": [
  {
   "cell_type": "code",
   "execution_count": 30,
   "id": "bd4960bc",
   "metadata": {},
   "outputs": [],
   "source": [
    "import matplotlib.pyplot as plt\n",
    "from math import sin\n",
    "import math\n",
    "from random import random\n",
    "import numpy as np"
   ]
  },
  {
   "cell_type": "code",
   "execution_count": 3,
   "id": "ffa27a8a",
   "metadata": {},
   "outputs": [],
   "source": [
    "#This is from the appendix, this will graph the two lines\n",
    "def drawPlt():\n",
    "    fig1 = plt.figure()\n",
    "    ax1 = fig1.add_subplot(111, aspect='equal')\n",
    "\n",
    "    x1 = np.linspace(0,2,100)\n",
    "    y1 = np.sqrt(1-(x1-1)**2)\n",
    "    ax1.plot(x1,y1,'k')\n",
    "\n",
    "    y2 = 2-np.sqrt(4-x1**2)\n",
    "    ax1.plot(x1,y2,'k')\n",
    "\n",
    "    ax1.set_xlim(0,2)\n",
    "    ax1.set_ylim(0,2)\n",
    "    ax1.fill_between(x1, y1, y2, where=y1>y2, facecolor='green')\n",
    "\n",
    "    plt.show()\n",
    "    return y1, y2, x1"
   ]
  },
  {
   "cell_type": "code",
   "execution_count": 18,
   "id": "fde9c801",
   "metadata": {},
   "outputs": [
    {
     "data": {
      "image/png": "[encoded data removed]",
      "text/plain": [
       "<Figure size 432x288 with 1 Axes>"
      ]
     },
     "metadata": {
      "needs_background": "light"
     },
     "output_type": "display_data"
    },
    {
     "name": "stdout",
     "output_type": "stream",
     "text": [
      "80 0.7876197450350676\n",
      "1.6161616161616164\n"
     ]
    }
   ],
   "source": [
    "y1, y2, x1 = drawPlt()\n",
    "\n",
    "def findIntersectingX(y1, y2):\n",
    "    for i in range(0, len(y1)):\n",
    "        if y1[i] < y2[i]:\n",
    "            print(i, y1[i])\n",
    "            return i\n",
    "\n",
    "intersection = findIntersectingX(y1, y2)\n",
    "xmax = x1[intersection]\n",
    "print(xmax)"
   ]
  },
  {
   "cell_type": "code",
   "execution_count": 24,
   "id": "6a8eaa82",
   "metadata": {},
   "outputs": [
    {
     "name": "stdout",
     "output_type": "stream",
     "text": [
      "0.9619717171717174 area of the shaded green\n",
      "1.6161616161616164 area of the enclosing box\n",
      "0.59522\n"
     ]
    }
   ],
   "source": [
    "def MC(N, xmax):\n",
    "    f = lambda c: np.sqrt(1-(c-1)**2) #Line 1\n",
    "    g = lambda d: 2-np.sqrt(4-d**2) #Line 2\n",
    "    k = 0;\n",
    "    i = 0;\n",
    "    while i < N:\n",
    "        x = xmax * random()\n",
    "        y = random()\n",
    "        \n",
    "        y1 = f(x)\n",
    "        y2 = g(x)\n",
    "        \n",
    "        if y > y2 and y < y1:\n",
    "            k += 1\n",
    "        \n",
    "        i+=1\n",
    "        \n",
    "    return k\n",
    "\n",
    "count = MC(100000, xmax)\n",
    "area = (count * (1 * xmax)) / 100000\n",
    "print(str(area) + \" area of the shaded green\")\n",
    "print(str(1 * xmax) + \" area of the enclosing box\")\n",
    "\n",
    "print(count / 100000)"
   ]
  },
  {
   "cell_type": "code",
   "execution_count": 27,
   "id": "a7b8bff7",
   "metadata": {},
   "outputs": [
    {
     "name": "stdout",
     "output_type": "stream",
     "text": [
      "[0.75       0.5        0.5        0.5625     0.6        0.625\n",
      " 0.57142857 0.46875    0.52777778 0.475      0.56818182 0.58333333\n",
      " 0.61538462 0.64285714 0.55       0.609375   0.52941176 0.66666667\n",
      " 0.53947368 0.65       0.54761905 0.57954545 0.60869565 0.59375\n",
      " 0.68       0.54807692 0.58333333 0.44642857 0.60344828 0.58333333\n",
      " 0.56451613 0.609375   0.59090909 0.54411765 0.60714286 0.63888889\n",
      " 0.50675676 0.58552632 0.62820513 0.61875    0.6097561  0.67857143\n",
      " 0.60465116 0.55681818 0.58333333 0.57608696 0.60106383 0.56770833\n",
      " 0.59693878 0.605      0.59803922 0.61538462 0.55660377 0.58333333\n",
      " 0.57727273 0.5625     0.56578947 0.56034483 0.62288136 0.58333333\n",
      " 0.61065574 0.63306452 0.57539683 0.6328125  0.61538462 0.625\n",
      " 0.6119403  0.62132353 0.67028986 0.65       0.62676056 0.54861111\n",
      " 0.5890411  0.55405405 0.60333333 0.55921053 0.54545455 0.59615385\n",
      " 0.57911392 0.615625   0.58024691 0.57926829 0.61746988 0.60714286\n",
      " 0.60882353 0.58139535 0.62356322 0.59659091 0.56179775 0.625\n",
      " 0.57142857 0.5951087  0.58602151 0.6037234  0.61315789 0.6484375\n",
      " 0.6314433  0.61989796 0.57828283 0.575     ]\n"
     ]
    }
   ],
   "source": [
    "#This will find the different \n",
    "def multipleDists(xmax):\n",
    "    f = lambda c: np.sqrt(1-(c-1)**2)\n",
    "    g = lambda d: 2-np.sqrt(4-d**2)\n",
    "    inc = 4\n",
    "    N = 4\n",
    "    probs = list()\n",
    "    NVals = list()\n",
    "    counts = list()\n",
    "    for i in range(0, 100):\n",
    "        if i == 100:\n",
    "            inc = 36\n",
    "        elif i == 1000:\n",
    "            inc = 360\n",
    "        elif i == 10000:\n",
    "            inc = 3600\n",
    "        \n",
    "        count = MC(N, xmax)\n",
    "        probs.append(count / N)\n",
    "        NVals.append(N)\n",
    "        counts.append(count)\n",
    "        N += inc\n",
    "        \n",
    "    return probs, NVals, counts\n",
    "\n",
    "probs, nvals, k = multipleDists(xmax)\n",
    "print(np.array(probs))\n",
    "        "
   ]
  },
  {
   "cell_type": "code",
   "execution_count": 33,
   "id": "0ef94e85",
   "metadata": {},
   "outputs": [
    {
     "name": "stdout",
     "output_type": "stream",
     "text": [
      "4589.282066361919\n"
     ]
    }
   ],
   "source": [
    "#This will find the probability\n",
    "#I do not know if this is entirely correct\n",
    "def totalProb(probs, nvals, k):\n",
    "    total = 0\n",
    "    for i in range(0, len(probs)):\n",
    "        coef = math.factorial(nvals[i]) / (math.factorial(k[i]) * (math.factorial(nvals[i] - k[i]))) #this is the combination coefficient\n",
    "        prH = probs[i]**k[i] #This is the probability something happens\n",
    "        prN = (1 - probs[i])**k[i] #This is the probability something does not happen\n",
    "        \n",
    "        total += (k[i] * (coef * prH * prN))\n",
    "        \n",
    "    return total\n",
    "        \n",
    "t = totalProb(probs, nvals, k)\n",
    "print(t)"
   ]
  },
  {
   "cell_type": "code",
   "execution_count": null,
   "id": "1400e9e1",
   "metadata": {},
   "outputs": [],
   "source": []
  }
 ],
 "metadata": {
  "kernelspec": {
   "display_name": "Python 3 (ipykernel)",
   "language": "python",
   "name": "python3"
  },
  "language_info": {
   "codemirror_mode": {
    "name": "ipython",
    "version": 3
   },
   "file_extension": ".py",
   "mimetype": "text/x-python",
   "name": "python",
   "nbconvert_exporter": "python",
   "pygments_lexer": "ipython3",
   "version": "3.9.2"
  }
 },
 "nbformat": 4,
 "nbformat_minor": 5
}
