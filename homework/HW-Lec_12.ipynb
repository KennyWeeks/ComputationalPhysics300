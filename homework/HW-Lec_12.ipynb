{
 "cells": [
  {
   "cell_type": "code",
   "execution_count": 1,
   "id": "f801d0d1",
   "metadata": {},
   "outputs": [],
   "source": [
    "import math\n",
    "from math import sin\n",
    "import matplotlib.pyplot as plt\n",
    "from scipy.integrate import quad\n",
    "import numpy as np\n",
    "from random import random"
   ]
  },
  {
   "cell_type": "code",
   "execution_count": 2,
   "id": "3b819244",
   "metadata": {},
   "outputs": [
    {
     "name": "stderr",
     "output_type": "stream",
     "text": [
      "/var/folders/_k/2mty61s53qv_0k67g1cbzvn40000gn/T/ipykernel_1870/1906568598.py:6: IntegrationWarning: The maximum number of subdivisions (50) has been achieved.\n",
      "  If increasing the limit yields no improvement it is advised to analyze \n",
      "  the integrand in order to determine the difficulties.  If the position of a \n",
      "  local difficulty can be determined (singularity, discontinuity) one will \n",
      "  probably gain from splitting up the interval and calling the integrator \n",
      "  on the subranges.  Perhaps a special-purpose integrator should be used.\n",
      "  const = quad(w, 0, 1)[0] #This is just a normal integral of the line\n"
     ]
    },
    {
     "name": "stdout",
     "output_type": "stream",
     "text": [
      "15.832072577321618\n"
     ]
    }
   ],
   "source": [
    "\n",
    "f = lambda x: (x**(-1))/(np.exp(x)+1)\n",
    "w = lambda x: 1/x\n",
    "p = lambda x: x#This is just a test, I'm really just copying the recipe, I kinda forgot how to do this\n",
    "\n",
    "def IMC(N):\n",
    "    const = quad(w, 0, 1)[0] #This is just a normal integral of the line\n",
    "    I = 0 \n",
    "    for i in range(0, N):\n",
    "        x = random() #This is the random x in the distribution\n",
    "        y = p(x) #this should just return the same thing\n",
    "        I += f(y)/w(y)\n",
    "        \n",
    "    return I/N*const\n",
    "    \n",
    "print(IMC(10**6)) #Call the function here"
   ]
  },
  {
   "cell_type": "code",
   "execution_count": 3,
   "id": "52c25a1f",
   "metadata": {},
   "outputs": [
    {
     "name": "stdout",
     "output_type": "stream",
     "text": [
      "20.594976039904015\n"
     ]
    },
    {
     "name": "stderr",
     "output_type": "stream",
     "text": [
      "/var/folders/_k/2mty61s53qv_0k67g1cbzvn40000gn/T/ipykernel_1870/1435800556.py:1: IntegrationWarning: The maximum number of subdivisions (50) has been achieved.\n",
      "  If increasing the limit yields no improvement it is advised to analyze \n",
      "  the integrand in order to determine the difficulties.  If the position of a \n",
      "  local difficulty can be determined (singularity, discontinuity) one will \n",
      "  probably gain from splitting up the interval and calling the integrator \n",
      "  on the subranges.  Perhaps a special-purpose integrator should be used.\n",
      "  print(quad(f, 0, 1)[0])\n"
     ]
    }
   ],
   "source": [
    "print(quad(f, 0, 1)[0])"
   ]
  },
  {
   "cell_type": "code",
   "execution_count": 4,
   "id": "ad314131",
   "metadata": {},
   "outputs": [
    {
     "name": "stderr",
     "output_type": "stream",
     "text": [
      "/var/folders/_k/2mty61s53qv_0k67g1cbzvn40000gn/T/ipykernel_1870/1906568598.py:2: RuntimeWarning: divide by zero encountered in true_divide\n",
      "  w = lambda x: 1/x\n",
      "/var/folders/_k/2mty61s53qv_0k67g1cbzvn40000gn/T/ipykernel_1870/1906568598.py:1: RuntimeWarning: divide by zero encountered in reciprocal\n",
      "  f = lambda x: (x**(-1))/(np.exp(x)+1)\n"
     ]
    },
    {
     "data": {
      "image/png": "[encoded data removed]",
      "text/plain": [
       "<Figure size 432x288 with 1 Axes>"
      ]
     },
     "metadata": {
      "needs_background": "light"
     },
     "output_type": "display_data"
    },
    {
     "data": {
      "text/plain": [
       "<Figure size 3600x3600 with 0 Axes>"
      ]
     },
     "metadata": {},
     "output_type": "display_data"
    }
   ],
   "source": [
    "xpoints = np.linspace(0, 1, 1000)\n",
    "plt.plot(xpoints, w(xpoints), \"g-\", label='w(x)')\n",
    "plt.plot(xpoints, f(xpoints), \"r-\", label='w(x)')\n",
    "plt.figure(figsize=(50,50))\n",
    "plt.show()"
   ]
  },
  {
   "cell_type": "code",
   "execution_count": 5,
   "id": "89f8fb08",
   "metadata": {},
   "outputs": [
    {
     "name": "stdout",
     "output_type": "stream",
     "text": [
      "41.67684067538809\n"
     ]
    },
    {
     "name": "stderr",
     "output_type": "stream",
     "text": [
      "/var/folders/_k/2mty61s53qv_0k67g1cbzvn40000gn/T/ipykernel_1870/364157676.py:1: IntegrationWarning: The maximum number of subdivisions (50) has been achieved.\n",
      "  If increasing the limit yields no improvement it is advised to analyze \n",
      "  the integrand in order to determine the difficulties.  If the position of a \n",
      "  local difficulty can be determined (singularity, discontinuity) one will \n",
      "  probably gain from splitting up the interval and calling the integrator \n",
      "  on the subranges.  Perhaps a special-purpose integrator should be used.\n",
      "  print(quad(w, 0, 1)[0])\n"
     ]
    }
   ],
   "source": [
    "print(quad(w, 0, 1)[0]) #I just wanted to test something"
   ]
  },
  {
   "cell_type": "code",
   "execution_count": null,
   "id": "4b6a5f5d",
   "metadata": {},
   "outputs": [],
   "source": []
  }
 ],
 "metadata": {
  "kernelspec": {
   "display_name": "Python 3 (ipykernel)",
   "language": "python",
   "name": "python3"
  },
  "language_info": {
   "codemirror_mode": {
    "name": "ipython",
    "version": 3
   },
   "file_extension": ".py",
   "mimetype": "text/x-python",
   "name": "python",
   "nbconvert_exporter": "python",
   "pygments_lexer": "ipython3",
   "version": "3.9.2"
  }
 },
 "nbformat": 4,
 "nbformat_minor": 5
}
