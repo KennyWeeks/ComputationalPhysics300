{
 "cells": [
  {
   "cell_type": "code",
   "execution_count": 29,
   "id": "10ad759e",
   "metadata": {},
   "outputs": [],
   "source": [
    "import numpy as np\n",
    "import matplotlib.pyplot as plt\n",
    "import math"
   ]
  },
  {
   "cell_type": "code",
   "execution_count": 5,
   "id": "e794d0a0",
   "metadata": {},
   "outputs": [],
   "source": [
    "np.random.seed(1)"
   ]
  },
  {
   "cell_type": "code",
   "execution_count": 20,
   "id": "d862800c",
   "metadata": {},
   "outputs": [],
   "source": [
    "def diceRoll(N):\n",
    "    count = 0\n",
    "    for i in range(N):\n",
    "        d1 = np.random.randint(1, 7, 1)[0]\n",
    "        d2 = np.random.randint(1, 7, 1)[0]\n",
    "        if d1 == d2:\n",
    "            count += 1\n",
    "            \n",
    "    return count"
   ]
  },
  {
   "cell_type": "code",
   "execution_count": 21,
   "id": "4232ddc7",
   "metadata": {},
   "outputs": [],
   "source": [
    "c = diceRoll(100)"
   ]
  },
  {
   "cell_type": "code",
   "execution_count": 22,
   "id": "7879c7f1",
   "metadata": {},
   "outputs": [
    {
     "name": "stdout",
     "output_type": "stream",
     "text": [
      "0.11\n"
     ]
    }
   ],
   "source": [
    "print(c/100)"
   ]
  },
  {
   "cell_type": "code",
   "execution_count": 144,
   "id": "ea78806a",
   "metadata": {},
   "outputs": [],
   "source": [
    "#this is a really bad version of this, but it kinda works\n",
    "def generateRandom():\n",
    "    N = 100\n",
    "    a = 16807\n",
    "    c = 0\n",
    "    m = (2**31) - 1\n",
    "    x = 1\n",
    "\n",
    "    numbs = list()\n",
    "    \n",
    "    for i in range(N):\n",
    "        x = (a * x + c) % m\n",
    "        if x % 2 == 0:   \n",
    "            numbs.append(math.floor(6 * (x/m)))\n",
    "        else:\n",
    "            numbs.append(math.floor(-6 * (x/m)))\n",
    "        \n",
    "    return numbs\n",
    "    "
   ]
  },
  {
   "cell_type": "code",
   "execution_count": 145,
   "id": "e22cce1e",
   "metadata": {},
   "outputs": [
    {
     "name": "stdout",
     "output_type": "stream",
     "text": [
      "[-1, -1, -5, 2, 3, 1, 0, 4, -5, -6, 2, -4, 4, 0, -1, -4, -5, -1, 2, 0, -3, -5, -4, -6, 5, -4, -1, 3, 2, -5, -6, 4, 1, -1, 4, -2, -4, -5, -6, -3, -2, 5, -5, 4, -4, -1, 3, -6, 1, -3, -5, -3, 1, 1, 2, 0, 2, 5, 5, -1, 5, 3, -4, 1, -6, -3, -2, 0, 5, -1, 3, -3, -2, -6, -4, 2, -6, 0, -5, -5, -5, 0, -1, -5, -6, -4, -5, 4, -6, 5, 1, -2, -3, 3, 3, 5, 2, -6, 1, 2]\n"
     ]
    }
   ],
   "source": [
    "numbs = generateRandom()\n",
    "print(numbs)"
   ]
  },
  {
   "cell_type": "code",
   "execution_count": 146,
   "id": "56ac4fed",
   "metadata": {},
   "outputs": [
    {
     "name": "stdout",
     "output_type": "stream",
     "text": [
      "0\n",
      "5\n",
      "4\n",
      "3\n",
      "2\n",
      "1\n",
      "0\n",
      "5\n",
      "4\n",
      "3\n",
      "2\n",
      "1\n",
      "0\n",
      "5\n",
      "4\n",
      "3\n",
      "2\n",
      "1\n",
      "0\n",
      "5\n",
      "4\n",
      "3\n",
      "2\n",
      "1\n",
      "0\n",
      "5\n",
      "4\n",
      "3\n",
      "2\n",
      "1\n",
      "0\n",
      "5\n",
      "4\n",
      "3\n",
      "2\n",
      "1\n",
      "0\n",
      "5\n",
      "4\n",
      "3\n",
      "2\n",
      "1\n",
      "0\n",
      "5\n",
      "4\n",
      "3\n",
      "2\n",
      "1\n",
      "0\n",
      "5\n",
      "4\n",
      "3\n",
      "2\n",
      "1\n",
      "0\n",
      "5\n",
      "4\n",
      "3\n",
      "2\n",
      "1\n",
      "0\n",
      "5\n",
      "4\n",
      "3\n",
      "2\n",
      "1\n",
      "0\n",
      "5\n",
      "4\n",
      "3\n",
      "2\n",
      "1\n",
      "0\n",
      "5\n",
      "4\n",
      "3\n",
      "2\n",
      "1\n",
      "0\n",
      "5\n",
      "4\n",
      "3\n",
      "2\n",
      "1\n",
      "0\n",
      "5\n",
      "4\n",
      "3\n",
      "2\n",
      "1\n",
      "0\n",
      "5\n",
      "4\n",
      "3\n",
      "2\n",
      "1\n",
      "0\n",
      "5\n",
      "4\n",
      "3\n"
     ]
    }
   ],
   "source": [
    "def generate():\n",
    "    N = 100\n",
    "    a = 1\n",
    "    x = -5\n",
    "    c = 5\n",
    "    m = 6\n",
    "    \n",
    "    for i in range(N):\n",
    "        x = (a * x + c) % m\n",
    "        print(x)\n",
    "        \n",
    "generate()"
   ]
  },
  {
   "cell_type": "code",
   "execution_count": null,
   "id": "4b168e8c",
   "metadata": {},
   "outputs": [],
   "source": []
  }
 ],
 "metadata": {
  "kernelspec": {
   "display_name": "Python 3 (ipykernel)",
   "language": "python",
   "name": "python3"
  },
  "language_info": {
   "codemirror_mode": {
    "name": "ipython",
    "version": 3
   },
   "file_extension": ".py",
   "mimetype": "text/x-python",
   "name": "python",
   "nbconvert_exporter": "python",
   "pygments_lexer": "ipython3",
   "version": "3.9.2"
  }
 },
 "nbformat": 4,
 "nbformat_minor": 5
}
