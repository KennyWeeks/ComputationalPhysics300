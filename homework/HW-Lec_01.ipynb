{
 "cells": [
  {
   "cell_type": "code",
   "execution_count": 18,
   "id": "12186fc6",
   "metadata": {},
   "outputs": [
    {
     "name": "stdout",
     "output_type": "stream",
     "text": [
      "[]\n",
      "[1]\n",
      "[1, 1]\n",
      "[1, 1, 2]\n",
      "[1, 1, 2, 3]\n",
      "[1, 1, 2, 3, 5, 8, 13, 21]\n",
      "[1, 1, 2, 3, 5, 8, 13, 21, 34, 55]\n",
      "[1, 1, 2, 3, 5, 8, 13, 21, 34, 55, 89, 144, 233, 377, 610, 987, 1597, 2584, 4181, 6765]\n"
     ]
    }
   ],
   "source": [
    "#Write a function here to compute fibonacci number\n",
    "def Fibonacci(N):\n",
    "    '''\n",
    "    This program is to calculate fibonacci number\n",
    "    Input: N (must be a positive integer number) \n",
    "    output: the Fibonacci series\n",
    "    '''\n",
    "\n",
    "    Fib_series = []\n",
    "    \n",
    "    for i in range(1,N+1):\n",
    "        if len(Fib_series)<=1:\n",
    "            Fib_series.append(1)\n",
    "        else:\n",
    "            Fib_series.append(Fib_series[-1] + Fib_series[-2])\n",
    "    return Fib_series\n",
    "\n",
    "print(Fibonacci(-1))\n",
    "print(Fibonacci(1))\n",
    "print(Fibonacci(2))\n",
    "print(Fibonacci(3))\n",
    "print(Fibonacci(4))\n",
    "print(Fibonacci(8))\n",
    "print(Fibonacci(10))\n",
    "print(Fibonacci(20))"
   ]
  },
  {
   "cell_type": "code",
   "execution_count": 3,
   "id": "8e31d0b8",
   "metadata": {},
   "outputs": [
    {
     "name": "stdout",
     "output_type": "stream",
     "text": [
      "Input the limit of the fibonacci sequence: 8\n",
      "8\n"
     ]
    }
   ],
   "source": [
    "#Recursive Version of a fibonaci sequence\n",
    "Fib_series = []\n",
    "N = input(\"Input the limit of the fibonacci sequence: \")\n",
    "print(N)"
   ]
  },
  {
   "cell_type": "code",
   "execution_count": 4,
   "id": "d895a0b5",
   "metadata": {},
   "outputs": [
    {
     "name": "stdout",
     "output_type": "stream",
     "text": [
      "<class 'str'>\n"
     ]
    }
   ],
   "source": [
    "print(type(N))"
   ]
  },
  {
   "cell_type": "code",
   "execution_count": 5,
   "id": "5fddd140",
   "metadata": {},
   "outputs": [
    {
     "name": "stdout",
     "output_type": "stream",
     "text": [
      "<class 'int'>\n"
     ]
    }
   ],
   "source": [
    "length = int(N)\n",
    "print(type(length))"
   ]
  },
  {
   "cell_type": "code",
   "execution_count": 32,
   "id": "449d8383",
   "metadata": {},
   "outputs": [],
   "source": [
    "#This is a recursive method\n",
    "fb_ser = [1, 1]\n",
    "def recurse(limit):\n",
    "    if limit < 0:\n",
    "        print([])\n",
    "    elif limit == 1:\n",
    "        print(fb_ser[0:1])\n",
    "    elif limit == 2:\n",
    "        print(fb_ser)\n",
    "    elif len(fb_ser) < limit:\n",
    "        next = fb_ser[-1] + fb_ser[-2]\n",
    "        fb_ser.append(next)\n",
    "        recurse(limit)\n",
    "    else:\n",
    "        print(fb_ser)\n",
    "\n",
    "recurse(-1)\n",
    "recurse(1)\n",
    "recurse(2)\n",
    "recurse(3)\n",
    "recurse(4)\n",
    "recurse(10)\n",
    "recurse(20)"
   ]
  },
  {
   "cell_type": "code",
   "execution_count": 33,
   "id": "a2d82ae7",
   "metadata": {},
   "outputs": [
    {
     "name": "stdout",
     "output_type": "stream",
     "text": [
      "[]\n",
      "[1]\n",
      "[1, 1]\n",
      "[1, 1, 2]\n",
      "[1, 1, 2, 3]\n",
      "[1, 1, 2, 3, 5, 8, 13, 21, 34, 55]\n",
      "[1, 1, 2, 3, 5, 8, 13, 21, 34, 55, 89, 144, 233, 377, 610, 987, 1597, 2584, 4181, 6765]\n"
     ]
    }
   ],
   "source": []
  },
  {
   "cell_type": "code",
   "execution_count": null,
   "id": "e13f56c1",
   "metadata": {},
   "outputs": [],
   "source": []
  }
 ],
 "metadata": {
  "kernelspec": {
   "display_name": "Python 3 (ipykernel)",
   "language": "python",
   "name": "python3"
  },
  "language_info": {
   "codemirror_mode": {
    "name": "ipython",
    "version": 3
   },
   "file_extension": ".py",
   "mimetype": "text/x-python",
   "name": "python",
   "nbconvert_exporter": "python",
   "pygments_lexer": "ipython3",
   "version": "3.8.5"
  }
 },
 "nbformat": 4,
 "nbformat_minor": 5
}
